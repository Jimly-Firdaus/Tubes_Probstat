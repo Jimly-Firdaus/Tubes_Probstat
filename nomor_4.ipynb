{
 "cells": [
  {
   "cell_type": "code",
   "execution_count": 9,
   "metadata": {},
   "outputs": [],
   "source": [
    "from statsmodels.stats import weightstats as stests\n",
    "from statsmodels.stats.proportion import proportions_ztest\n",
    "from scipy import stats\n",
    "import numpy as np\n",
    "import pandas as pd\n",
    "import seaborn as sns\n",
    "\n",
    "# Load dataset\n",
    "df = pd.read_csv('anggur.csv')\n",
    "\n",
    "# Find Z test from normal distribution\n",
    "def find_z (x_bar, mu, s, data_length):\n",
    "    z = (x_bar - mu) / (s / np.sqrt(data_length))\n",
    "    return z"
   ]
  },
  {
   "attachments": {},
   "cell_type": "markdown",
   "metadata": {},
   "source": [
    "# Tes Hipotesis Sample"
   ]
  },
  {
   "attachments": {},
   "cell_type": "markdown",
   "metadata": {},
   "source": [
    "## Nilai rata-rata pH di atas 3.29\n",
    "\n",
    "1. Tentukan Hipotesis nol \n",
    "\n",
    "    -> H0: μ = 3.29\n",
    "\n",
    "2. Pilih hipotesis alternatif H1\n",
    "\n",
    "    -> H1: μ > 3.29\n",
    "\n",
    "3. Tentukan tingkat signifikan α.\n",
    "\n",
    "    -> α = 0.05\n",
    "\n",
    "4. Tentukan uji statistik yang sesuai dan tentukan daerah kritis\n",
    "\n",
    "    -> Uji statistik yang digunakan : Z-test\n",
    "    \n",
    "    -> Daerah Kritis                : z > -1.64\n",
    "\n",
    "5. Hitung nilai uji statistik dari data sample."
   ]
  },
  {
   "cell_type": "code",
   "execution_count": 10,
   "metadata": {},
   "outputs": [
    {
     "name": "stdout",
     "output_type": "stream",
     "text": [
      "z-score: 4.10\n",
      "Critical value: -1.64\n",
      "Tolak H0, rata-rata pH di atas 3.29\n"
     ]
    }
   ],
   "source": [
    "data = df[\"pH\"].values\n",
    "μ = 3.29\n",
    "\n",
    "# Find mean & std\n",
    "x_bar = np.mean(data)\n",
    "s = np.std(data, ddof=1)\n",
    "\n",
    "# Find Z-test\n",
    "z = find_z(x_bar, μ, s, len(data))\n",
    "\n",
    "# Find critical values according to alpha\n",
    "alpha = 0.05\n",
    "z_critical = stats.norm.ppf(alpha)\n",
    "\n",
    "# Result\n",
    "print(f'z-score: {z:.2f}')\n",
    "print(f'Critical value: {z_critical:.2f}')\n",
    "\n",
    "# Z-test comparison\n",
    "if z > -z_critical:\n",
    "    print(\"Tolak H0, rata-rata pH di atas 3.29\")\n",
    "else:\n",
    "    print(\"Gagal menolak H0, rata-rata pH tidak berada di atas 3.29\")"
   ]
  },
  {
   "attachments": {},
   "cell_type": "markdown",
   "metadata": {},
   "source": [
    "6. Ambil keputusan\n",
    "\n",
    "    -> Berdasarkan langkah no 5 didapat bahwa nilai z > -z_critical maka tolak H0 (μ pH di atas 3.29)"
   ]
  },
  {
   "attachments": {},
   "cell_type": "markdown",
   "metadata": {},
   "source": [
    "\n",
    "## Nilai rata-rata Residual Sugar tidak sama dengan 2.50\n",
    "\n",
    "1. Tentukan Hipotesis nol \n",
    "\n",
    "    -> H0: μ = 2.50\n",
    "\n",
    "2. Pilih hipotesis alternatif H1\n",
    "\n",
    "    -> H1: μ ≠ 2.50\n",
    "\n",
    "3. Tentukan tingkat signifikan α.\n",
    "\n",
    "    -> α = 0.05\n",
    "\n",
    "4. Tentukan uji statistik yang sesuai dan tentukan daerah kritis\n",
    "\n",
    "    -> Uji statistik yang digunakan : Z-test\n",
    "    \n",
    "    -> Daerah Kritis                : z < -1.96 or z > 1.96\n",
    "\n",
    "5. Hitung nilai uji statistik dari data sample."
   ]
  },
  {
   "cell_type": "code",
   "execution_count": 11,
   "metadata": {},
   "outputs": [
    {
     "name": "stdout",
     "output_type": "stream",
     "text": [
      "z-score: 2.15\n",
      "Critical value: 1.96\n",
      "Tolak H0, rata-rata residual sugar tidak sama dengan 2.50\n"
     ]
    }
   ],
   "source": [
    "data = df[\"residual sugar\"].values\n",
    "mu = 2.50\n",
    "\n",
    "# Find mean & std\n",
    "x_bar = np.mean(data)\n",
    "s = np.std(data, ddof=1)\n",
    "\n",
    "# Find Z-test\n",
    "z = find_z(x_bar, mu, s, len(data))\n",
    "\n",
    "# Find critical values according to alpha\n",
    "alpha = 0.05\n",
    "z_critical = stats.norm.ppf(1- alpha/2)\n",
    "\n",
    "# Result\n",
    "print(f'z-score: {z:.2f}')\n",
    "print(f'Critical value: {z_critical:.2f}')\n",
    "\n",
    "if z < -z_critical or z > z_critical:\n",
    "    print(\"Tolak H0, rata-rata residual sugar tidak sama dengan 2.50\")\n",
    "else:\n",
    "    print(\"Gagal menolak H0, rata-rata residual sugar sama dengan 2.50\")"
   ]
  },
  {
   "attachments": {},
   "cell_type": "markdown",
   "metadata": {},
   "source": [
    "6. Ambil keputusan\n",
    "\n",
    "    -> Berdasarkan langkah no 5 didapat bahwa nilai z berada di daerah kritis maka tolak H0 (μ residual sugar tidak sama dengan 2.50)"
   ]
  },
  {
   "attachments": {},
   "cell_type": "markdown",
   "metadata": {},
   "source": [
    "\n",
    "## Nilai rata-rata 150 baris pertama kolom sulphates bukan 0.65\n",
    "\n",
    "1. Tentukan Hipotesis nol \n",
    "\n",
    "    -> H0: μ = 0.65\n",
    "\n",
    "2. Pilih hipotesis alternatif H1\n",
    "\n",
    "    -> H1: μ ≠ 0.65\n",
    "\n",
    "3. Tentukan tingkat signifikan α.\n",
    "\n",
    "    -> α = 0.05\n",
    "\n",
    "4. Tentukan uji statistik yang sesuai dan tentukan daerah kritis\n",
    "\n",
    "    -> Uji statistik yang digunakan : Z-test\n",
    "    \n",
    "    -> Daerah Kritis                : z < -1.96 or z > 1.96\n",
    "\n",
    "5. Hitung nilai uji statistik dari data sample."
   ]
  },
  {
   "cell_type": "code",
   "execution_count": 12,
   "metadata": {},
   "outputs": [
    {
     "name": "stdout",
     "output_type": "stream",
     "text": [
      "z-score: -4.96\n",
      "Critical value: 1.96\n",
      "Tolak H0, rata-rata 150 baris pertama kolom sulphates bukan 0.65\n"
     ]
    }
   ],
   "source": [
    "data = df[\"sulphates\"].loc[0:149].values\n",
    "mu = 0.65\n",
    "\n",
    "# Find mean & std\n",
    "x_bar = np.mean(data)\n",
    "s = np.std(data, ddof=1)\n",
    "\n",
    "# Find Z-test\n",
    "z = find_z(x_bar, mu, s, len(data))\n",
    "\n",
    "# Find critical values according to alpha\n",
    "alpha = 0.05\n",
    "z_critical = stats.norm.ppf(1- alpha/2)\n",
    "\n",
    "# Result\n",
    "print(f'z-score: {z:.2f}')\n",
    "print(f'Critical value: {z_critical:.2f}')\n",
    "\n",
    "if z < -z_critical or z > z_critical:\n",
    "    print(\"Tolak H0, rata-rata 150 baris pertama kolom sulphates bukan 0.65\")\n",
    "else:\n",
    "    print(\"Gagal menolak H0, rata-rata 150 baris pertama kolom sulphates adalah 0.65\")"
   ]
  },
  {
   "attachments": {},
   "cell_type": "markdown",
   "metadata": {},
   "source": [
    "6. Ambil keputusan\n",
    "\n",
    "    -> Berdasarkan langkah no 5 didapat bahwa nilai z tidak berada di daerah kritis maka tolak H0 (μ 150 baris pertama kolom sulphates bukan 0.65)"
   ]
  },
  {
   "attachments": {},
   "cell_type": "markdown",
   "metadata": {},
   "source": [
    "## Nilai rata-rata total sulfur dioxide di bawah 35?\n",
    "\n",
    "1. Tentukan Hipotesis nol \n",
    "\n",
    "    -> H0: μ = 35\n",
    "\n",
    "2. Pilih hipotesis alternatif H1\n",
    "\n",
    "    -> H1: μ < 35\n",
    "\n",
    "3. Tentukan tingkat signifikan α.\n",
    "\n",
    "    -> α = 0.05\n",
    "\n",
    "4. Tentukan uji statistik yang sesuai dan tentukan daerah kritis\n",
    "\n",
    "    -> Uji statistik yang digunakan : Z-test\n",
    "    \n",
    "    -> Daerah Kritis                : z < -1.64\n",
    "\n",
    "5. Hitung nilai uji statistik dari data sample."
   ]
  },
  {
   "cell_type": "code",
   "execution_count": 13,
   "metadata": {},
   "outputs": [
    {
     "name": "stdout",
     "output_type": "stream",
     "text": [
      "z-score: 16.79\n",
      "Critical value: -1.64\n",
      "Gagal menolak H0, rata-rata total sulfur dioxide tidak di bawah 35\n"
     ]
    }
   ],
   "source": [
    "data = df[\"total sulfur dioxide\"].values\n",
    "μ = 35\n",
    "\n",
    "# Find mean & std\n",
    "x_bar = np.mean(data)\n",
    "s = np.std(data, ddof=1)\n",
    "\n",
    "# Find Z-test\n",
    "z = find_z(x_bar, μ, s, len(data))\n",
    "\n",
    "# Find critical values according to alpha\n",
    "alpha = 0.05\n",
    "z_critical = stats.norm.ppf(alpha)\n",
    "\n",
    "# Result\n",
    "print(f'z-score: {z:.2f}')\n",
    "print(f'Critical value: {z_critical:.2f}')\n",
    "\n",
    "# Z-test comparison\n",
    "if z < z_critical:\n",
    "    print(\"Tolak H0, rata-rata total sulfur dioxide di bawah 35\")\n",
    "else:\n",
    "    print(\"Gagal menolak H0, rata-rata total sulfur dioxide tidak di bawah 35\")"
   ]
  },
  {
   "attachments": {},
   "cell_type": "markdown",
   "metadata": {},
   "source": [
    "6. Ambil keputusan\n",
    "\n",
    "    -> Berdasarkan langkah no 5 didapat bahwa nilai z < z_critical maka gagal menolak H0 (μ total sulfur dioxide tidak berada di bawah 35)"
   ]
  },
  {
   "attachments": {},
   "cell_type": "markdown",
   "metadata": {},
   "source": [
    "## Proporsi nilai total Sulfat Dioxide yang lebih dari 40, adalah tidak sama dengan 50% ?\n",
    "\n",
    "1. Tentukan Hipotesis nol \n",
    "\n",
    "    -> H0: p = 0.5\n",
    "\n",
    "2. Pilih hipotesis alternatif H1\n",
    "\n",
    "    -> H1: p ≠ 0.5\n",
    "\n",
    "3. Tentukan tingkat signifikan α.\n",
    "\n",
    "    -> α = 0.05\n",
    "\n",
    "4. Tentukan uji statistik yang sesuai dan tentukan daerah kritis\n",
    "\n",
    "    -> Uji statistik yang digunakan : Z-test untuk proporsi 1 sampel\n",
    "    \n",
    "    -> Daerah Kritis                : z < -1.96 or z > 1.96\n",
    "\n",
    "5. Hitung nilai uji statistik dari data sample."
   ]
  },
  {
   "cell_type": "code",
   "execution_count": 14,
   "metadata": {},
   "outputs": [
    {
     "name": "stdout",
     "output_type": "stream",
     "text": [
      "z-score: 0.76\n",
      "Critical value: 1.96\n",
      "Gagal menolak H0. Proporsi nilai total Sulfat Dioxide yang lebih dari 40, adalah sama dengan 50%\n"
     ]
    }
   ],
   "source": [
    "from scipy.stats import norm\n",
    "\n",
    "alpha = 0.05\n",
    "# Total sample with total sulfur dioxide > 40\n",
    "n_sampel = df['total sulfur dioxide'].loc[df['total sulfur dioxide'] > 40].size\n",
    "\n",
    "# Total observation\n",
    "n = df['total sulfur dioxide'].size\n",
    "\n",
    "# H0 success proportion\n",
    "p0 = 0.5\n",
    "q0 = 1 - p0\n",
    "\n",
    "# Sample proportion\n",
    "p1 = n_sampel / n\n",
    "\n",
    "# Z-score\n",
    "z = (p1 - p0) / np.sqrt(p0 * q0 / n)\n",
    "\n",
    "# Critical value\n",
    "z_critical = norm.ppf(1 - alpha/2)\n",
    "\n",
    "# Result\n",
    "print(f'z-score: {z:.2f}')\n",
    "print(f'Critical value: {z_critical:.2f}')\n",
    "\n",
    "# Decision\n",
    "if z < -z_critical or z > z_critical:\n",
    "    print('Tolak H0. Proporsi nilai total Sulfat Dioxide yang lebih dari 40, adalah tidak sama dengan 50%')\n",
    "else:\n",
    "    print('Gagal menolak H0. Proporsi nilai total Sulfat Dioxide yang lebih dari 40, adalah sama dengan 50%')"
   ]
  },
  {
   "attachments": {},
   "cell_type": "markdown",
   "metadata": {},
   "source": [
    "6. Ambil keputusan\n",
    "\n",
    "    -> Berdasarkan langkah no 5 didapat bahwa nilai -z_critical < z < z_critical maka gagal menolak H0 (Proporsi nilai total Sulfat Dioxide yang lebih dari 40, adalah sama dengan 50%)"
   ]
  }
 ],
 "metadata": {
  "kernelspec": {
   "display_name": "Python 3",
   "language": "python",
   "name": "python3"
  },
  "language_info": {
   "codemirror_mode": {
    "name": "ipython",
    "version": 3
   },
   "file_extension": ".py",
   "mimetype": "text/x-python",
   "name": "python",
   "nbconvert_exporter": "python",
   "pygments_lexer": "ipython3",
   "version": "3.10.9"
  },
  "orig_nbformat": 4
 },
 "nbformat": 4,
 "nbformat_minor": 2
}

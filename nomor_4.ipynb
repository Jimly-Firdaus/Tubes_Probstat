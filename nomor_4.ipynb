{
 "cells": [
  {
   "cell_type": "code",
   "execution_count": 6,
   "metadata": {},
   "outputs": [],
   "source": [
    "from statsmodels.stats import weightstats as stests\n",
    "from scipy import stats\n",
    "import numpy as np\n",
    "import pandas as pd\n",
    "\n",
    "# Load dataset\n",
    "df = pd.read_csv('anggur.csv')"
   ]
  },
  {
   "attachments": {},
   "cell_type": "markdown",
   "metadata": {},
   "source": [
    "# Tes Hipotesis Sample"
   ]
  },
  {
   "attachments": {},
   "cell_type": "markdown",
   "metadata": {},
   "source": [
    "\n",
    "\n",
    "## Nilai rata-rata pH di atas 3.29\n",
    "\n",
    "1. Tentukan Hipotesis nol \n",
    "    -> H0: μ = 3.29\n",
    "\n",
    "2. Pilih hipotesis alternatif H1\n",
    "    -> H1: μ > 3.29\n",
    "\n",
    "3. Tentukan tingkat signifikan α.\n",
    "    -> α = 0.05\n",
    "\n",
    "4. Tentukan uji statistik yang sesuai dan tentukan daerah kritis\n",
    "    -> Uji statistik yang digunakan : Z-test\n",
    "    -> Daerah Kritis                : 3.29\n",
    "\n",
    "5. Hitung nilai uji statistik dari data sample. Hitung p-value sesuai dengan uji statistik yang\n",
    "digunakan\n"
   ]
  },
  {
   "cell_type": "code",
   "execution_count": 12,
   "metadata": {},
   "outputs": [
    {
     "name": "stdout",
     "output_type": "stream",
     "text": [
      "Z-test: 4.10\n",
      "Nilai batas: -1.64\n",
      "Tolak H0, rata-rata pH di atas 3.29\n"
     ]
    }
   ],
   "source": [
    "data = df[\"pH\"].values\n",
    "mu = 3.29\n",
    "\n",
    "# Hitung rata-rata dan standar deviasi sampel\n",
    "x_bar = np.mean(data)\n",
    "s = np.std(data, ddof=1)\n",
    "\n",
    "# Hitung nilai Z-test\n",
    "z = (x_bar - mu) / (s / np.sqrt(len(data)))\n",
    "\n",
    "# Tentukan nilai batas berdasarkan tingkat signifikansi\n",
    "alpha = 0.05\n",
    "z_critical = stats.norm.ppf(alpha)\n",
    "\n",
    "# Cetak hasil\n",
    "print(f\"Z-test: {z:.2f}\")\n",
    "print(f\"Nilai batas: {z_critical:.2f}\")\n",
    "\n",
    "if z > -z_critical:\n",
    "    print(\"Tolak H0, rata-rata pH di atas 3.29\")\n",
    "else:\n",
    "    print(\"Gagal menolak H0, rata-rata pH tidak berada di atas 3.29\")"
   ]
  },
  {
   "attachments": {},
   "cell_type": "markdown",
   "metadata": {},
   "source": [
    "6. Ambil keputusan\n",
    "    -> Berdasarkan langkah no 5 didapat bahwa nilai p < α maka tolah H0 (μ pH di atas 3.29)"
   ]
  }
 ],
 "metadata": {
  "kernelspec": {
   "display_name": "Python 3",
   "language": "python",
   "name": "python3"
  },
  "language_info": {
   "codemirror_mode": {
    "name": "ipython",
    "version": 3
   },
   "file_extension": ".py",
   "mimetype": "text/x-python",
   "name": "python",
   "nbconvert_exporter": "python",
   "pygments_lexer": "ipython3",
   "version": "3.10.6"
  },
  "orig_nbformat": 4
 },
 "nbformat": 4,
 "nbformat_minor": 2
}

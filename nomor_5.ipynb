{
 "cells": [
  {
   "cell_type": "code",
   "execution_count": 13,
   "metadata": {},
   "outputs": [],
   "source": [
    "from statsmodels.stats import weightstats as stests\n",
    "from statsmodels.stats.proportion import proportions_ztest\n",
    "import scipy.stats as stats\n",
    "import numpy as np\n",
    "import pandas as pd\n",
    "\n",
    "# Load dataset\n",
    "df = pd.read_csv('anggur.csv')\n",
    "\n",
    "# given std\n",
    "def z_score (x_bar_1, x_bar_2, d0, sigma_1, sigma_2, n1, n2):\n",
    "    return ((x_bar_1 - x_bar_2) - d0) / np.sqrt(((sigma_1 ** 2) / n1) + ((sigma_2 ** 2) / n2))\n",
    "\n",
    "# same std but not given\n",
    "def sp (s1, s2, n1, n2):\n",
    "    return ((n1 - 1) * (s1 ** 2) + (n2 - 1) * (s2 ** 2)) / (n1 + n2 - 2)\n",
    "\n",
    "def t_val_1 (x_bar_1, x_bar_2, d0, sp, n1, n2):\n",
    "    return ((x_bar_1 - x_bar_2) - d0) / (sp * np.sqrt((1 / n1) + (1 / n2)))\n",
    "\n",
    "# std not same && not given\n",
    "def t_val_2 (x_bar_1, x_bar_2, d0, s1, s2, n1, n2):\n",
    "    return ((x_bar_1 - x_bar_2) - d0) / np.sqrt(((s1 ** 2) / n1) + ((s2 ** 2) / n2))"
   ]
  },
  {
   "attachments": {},
   "cell_type": "markdown",
   "metadata": {},
   "source": [
    "# Tes Hipotesis 2 Sampel"
   ]
  },
  {
   "attachments": {},
   "cell_type": "markdown",
   "metadata": {},
   "source": [
    "## 5.1 Data kolom fixed acidity dibagi 2 sama rata: bagian awal dan bagian akhir kolom. Benarkah rata-rata kedua bagian tersebut sama?\n",
    "\n",
    "1. Tentukan Hipotesis nol \n",
    "\n",
    "    $$H_0: \\mu_1 = \\mu_2$$\n",
    "\n",
    "2. Pilih hipotesis alternatif H1\n",
    "\n",
    "    $$H_1: \\mu_1 ≠ \\mu_2$$\n",
    "\n",
    "3. Tentukan tingkat signifikan α.\n",
    "\n",
    "    $$\\alpha = 0.05$$\n",
    "\n",
    "4. Tentukan uji statistik yang sesuai dan tentukan daerah kritis\n",
    "\n",
    "    Uji statistik yang digunakan : <u>Two Sample Two-Tailed Mean Test</u>\n",
    "    \n",
    "    <h4 align=\"center\">Daerah Kritis                : z_val < -1.96 or z_val > 1.96\n",
    "</h4>\n",
    "\n",
    "5. Hitung nilai uji statistik dari data sample."
   ]
  },
  {
   "cell_type": "code",
   "execution_count": 14,
   "metadata": {},
   "outputs": [
    {
     "name": "stdout",
     "output_type": "stream",
     "text": [
      "z-score: 0.03\n",
      "Critical value: 1.96\n",
      "Gagal menolak H0. μ kedua bagian sama\n"
     ]
    }
   ],
   "source": [
    "fixed_acidity = df[\"fixed acidity\"]\n",
    "\n",
    "d0 = 0\n",
    "\n",
    "z_alpha = stats.t.ppf(0.975, fixed_acidity.size - 1)\n",
    "\n",
    "# Get 2 section\n",
    "bag_1 = fixed_acidity.head(fixed_acidity.size // 2)\n",
    "bag_2 = fixed_acidity.tail(fixed_acidity.size // 2)\n",
    "\n",
    "# Find mean\n",
    "mean_1 = bag_1.mean()\n",
    "mean_2 = bag_2.mean()\n",
    "\n",
    "# Find std\n",
    "std_1 = bag_1.std()\n",
    "std_2 = bag_2.std()\n",
    "\n",
    "# Size\n",
    "size = fixed_acidity.size // 2\n",
    "\n",
    "# Find z value\n",
    "z_val = z_score(mean_1, mean_2, d0, std_1, std_2, size, size)\n",
    "\n",
    "# Result\n",
    "print(f'z-score: {z_val:.2f}')\n",
    "print(f'Critical value: {z_alpha:.2f}')\n",
    "\n",
    "# Decision\n",
    "if z_val < -z_alpha or z_val > z_alpha:\n",
    "    print(\"Tolak H0. μ kedua bagian tidak sama\")\n",
    "else:\n",
    "    print(\"Gagal menolak H0. μ kedua bagian sama\")"
   ]
  },
  {
   "attachments": {},
   "cell_type": "markdown",
   "metadata": {},
   "source": [
    "6. Ambil keputusan\n",
    "\n",
    "    <h4 align=\"center\"><font color='green'>Berdasarkan langkah no 5 didapat bahwa nilai z tidak berada di daerah kritis maka gagal menolak H0 (μ kolom fixed acidity bagian awal sama dengan bagian akhirnya)</font></h4>"
   ]
  },
  {
   "attachments": {},
   "cell_type": "markdown",
   "metadata": {},
   "source": [
    "## 5.2 Data kolom chlorides dibagi 2 sama rata: bagian awal dan bagian akhir kolom. Benarkah rata-rata bagian awal lebih besar daripada bagian akhir sebesar 0.001?\n",
    "\n",
    "1. Tentukan Hipotesis nol \n",
    "\n",
    "    $$H_0: \\mu_1 - \\mu_2 = 0.001$$\n",
    "\n",
    "2. Pilih hipotesis alternatif H1\n",
    "\n",
    "    $$H_1: \\mu_1 - \\mu_2 ≠ 0.001$$\n",
    "\n",
    "3. Tentukan tingkat signifikan α.\n",
    "\n",
    "    $$\\alpha = 0.05$$\n",
    "\n",
    "4. Tentukan uji statistik yang sesuai dan tentukan daerah kritis\n",
    "\n",
    "    Uji statistik yang digunakan : <u>Two Sample Two-Tailed Mean Test</u>\n",
    "    \n",
    "    <h4 align=\"center\">Daerah Kritis                : z_val < -1.96 or z_val > 1.96\n",
    "</h4>\n",
    "\n",
    "5. Hitung nilai uji statistik dari data sample."
   ]
  },
  {
   "cell_type": "code",
   "execution_count": 15,
   "metadata": {},
   "outputs": [
    {
     "name": "stdout",
     "output_type": "stream",
     "text": [
      "z-score: -0.47\n",
      "Critical value: 1.96\n",
      "Gagal menolak H0. μ bagian awal lebih besar daripada bagian akhir sebesar 0.001\n"
     ]
    }
   ],
   "source": [
    "chlorides = df[\"chlorides\"]\n",
    "\n",
    "d0 = 0.001\n",
    "\n",
    "z_alpha = stats.t.ppf(0.975, chlorides.size - 1)\n",
    "\n",
    "# Get 2 section\n",
    "bag_1 = chlorides.head(chlorides.size // 2)\n",
    "bag_2 = chlorides.tail(chlorides.size // 2)\n",
    "\n",
    "# Find mean\n",
    "mean_1 = bag_1.mean()\n",
    "mean_2 = bag_2.mean()\n",
    "\n",
    "# Find std\n",
    "std_1 = bag_1.std()\n",
    "std_2 = bag_2.std()\n",
    "\n",
    "# Size\n",
    "size = chlorides.size // 2\n",
    "\n",
    "# Find z value\n",
    "z_val = z_score(mean_1, mean_2, d0, std_1, std_2, size, size)\n",
    "\n",
    "# Result\n",
    "print(f'z-score: {z_val:.2f}')\n",
    "print(f'Critical value: {z_alpha:.2f}')\n",
    "\n",
    "# Decision\n",
    "if z_val < -z_alpha or z_val > z_alpha:\n",
    "    print(\"Tolak H0. μ bagian awal tidak lebih besar daripada bagian akhir sebesar 0.001\")\n",
    "else:\n",
    "    print(\"Gagal menolak H0. μ bagian awal lebih besar daripada bagian akhir sebesar 0.001\")"
   ]
  },
  {
   "attachments": {},
   "cell_type": "markdown",
   "metadata": {},
   "source": [
    "6. Ambil keputusan\n",
    "\n",
    "    <h4 align=\"center\"><font color='green'>Berdasarkan langkah no 5 didapat bahwa nilai z tidak berada di daerah kritis maka gagal menolak H0 (μ bagian awal kolom chlorides lebih besar daripada bagian akhirnya sebesar 0.001)</font></h4>"
   ]
  },
  {
   "attachments": {},
   "cell_type": "markdown",
   "metadata": {},
   "source": [
    "## 5.3 Benarkah rata-rata sampel 25 baris pertama kolom Volatile Acidity sama dengan rata-rata 25 baris pertama kolom Sulphates?\n",
    "\n",
    "1. Tentukan Hipotesis nol \n",
    "\n",
    "    $$H_0: \\mu_1 = \\mu_2$$\n",
    "\n",
    "2. Pilih hipotesis alternatif H1\n",
    "\n",
    "    $$H_1: \\mu_1 ≠ \\mu_2$$\n",
    "\n",
    "3. Tentukan tingkat signifikan α.\n",
    "\n",
    "    $$\\alpha = 0.05$$\n",
    "\n",
    "4. Tentukan uji statistik yang sesuai dan tentukan daerah kritis\n",
    "\n",
    "    Uji statistik yang digunakan : <u>Two Sample Two-Tailed Mean Test</u>\n",
    "    \n",
    "    <h4 align=\"center\">Daerah Kritis                : z_val < -2.06 or z_val > 2.06\n",
    "</h4>\n",
    "\n",
    "5. Hitung nilai uji statistik dari data sample."
   ]
  },
  {
   "cell_type": "code",
   "execution_count": 16,
   "metadata": {},
   "outputs": [
    {
     "name": "stdout",
     "output_type": "stream",
     "text": [
      "z-score: -2.64\n",
      "Critical value: 2.06\n",
      "Tolak H0. μ sampel 25 baris pertama kolom Volatile Acidity tidak sama dengan rata-rata 25 baris pertama kolom Sulphates\n"
     ]
    }
   ],
   "source": [
    "volatile_acidity = df[\"volatile acidity\"]\n",
    "sulphates = df[\"sulphates\"]\n",
    "\n",
    "d0 = 0\n",
    "\n",
    "z_alpha = stats.t.ppf(0.975, 24)\n",
    "\n",
    "# Get 2 section\n",
    "bag_1 = volatile_acidity.head(25)\n",
    "bag_2 = sulphates.head(25)\n",
    "\n",
    "# Find mean\n",
    "mean_1 = bag_1.mean()\n",
    "mean_2 = bag_2.mean()\n",
    "\n",
    "# Find std\n",
    "std_1 = bag_1.std()\n",
    "std_2 = bag_2.std()\n",
    "\n",
    "# Size\n",
    "size = 25\n",
    "\n",
    "# Find z value\n",
    "z_val = z_score(mean_1, mean_2, d0, std_1, std_2, size, size)\n",
    "\n",
    "# Result\n",
    "print(f'z-score: {z_val:.2f}')\n",
    "print(f'Critical value: {z_alpha:.2f}')\n",
    "\n",
    "# Decision\n",
    "if z_val < -z_alpha or z_val > z_alpha:\n",
    "    print(\"Tolak H0. μ sampel 25 baris pertama kolom Volatile Acidity tidak sama dengan rata-rata 25 baris pertama kolom Sulphates\")\n",
    "else:\n",
    "    print(\"Gagal menolak H0. μ sampel 25 baris pertama kolom Volatile Acidity sama dengan rata-rata 25 baris pertama kolom Sulphates\")"
   ]
  },
  {
   "attachments": {},
   "cell_type": "markdown",
   "metadata": {},
   "source": [
    "6. Ambil keputusan\n",
    "\n",
    "    <h4 align=\"center\"><font color='red'>Berdasarkan langkah no 5 didapat bahwa nilai z berada di daerah kritis maka tolak H0 (μ sampel 25 baris pertama kolom Volatile Acidity tidak sama dengan rata-rata 25 baris pertama kolom Sulphates)</font></h4>"
   ]
  },
  {
   "attachments": {},
   "cell_type": "markdown",
   "metadata": {},
   "source": [
    "## 5.4 Bagian awal kolom residual sugar memiliki variansi yang sama dengan bagian akhirnya?\n",
    "\n",
    "1. Tentukan Hipotesis nol \n",
    "\n",
    "    $$H_{0}: \\sigma^{2}_1 = \\sigma^{2}_2$$\n",
    "\n",
    "2. Pilih hipotesis alternatif H1\n",
    "\n",
    "    $$H_{1}: \\sigma^{2}_1 ≠ \\sigma^{2}_2$$\n",
    "\n",
    "3. Tentukan tingkat signifikan α.\n",
    "\n",
    "    $$\\alpha = 0.05$$\n",
    "\n",
    "4. Tentukan uji statistik yang sesuai dan tentukan daerah kritis\n",
    "\n",
    "    Uji statistik yang digunakan : <u>Two Sample Two-Tailed Mean Test</u>\n",
    "    \n",
    "    <h4 align=\"center\">Daerah Kritis                : f_val < 0.84 or f_val > 1.19\n",
    "</h4>\n",
    "\n",
    "5. Hitung nilai uji statistik dari data sample."
   ]
  },
  {
   "cell_type": "code",
   "execution_count": 17,
   "metadata": {},
   "outputs": [
    {
     "name": "stdout",
     "output_type": "stream",
     "text": [
      "Critical value: 0.84 and 1.19\n",
      "f-value: 0.94\n",
      "Gagal menolak H0. Variansi bagian awal kolom residual sugar sama dengan variansi bagian akhirnya\n"
     ]
    }
   ],
   "source": [
    "residual_sugar = df[\"residual sugar\"]\n",
    "\n",
    "## Get 2 section\n",
    "bag_1 = residual_sugar.head(residual_sugar.size // 2)\n",
    "bag_2 = residual_sugar.tail(residual_sugar.size // 2)\n",
    "\n",
    "# Find degree of freedom of each section\n",
    "v1 = bag_1.count()-1\n",
    "v2 = bag_2.count()-1\n",
    "\n",
    "# Find critical value\n",
    "f_awal = stats.f.ppf(0.05/2, v1, v2)\n",
    "f_akhir = stats.f.ppf(1 - 0.05/2, v1, v2)\n",
    "print(f'Critical value: {f_awal:.2f} and {f_akhir:.2f}')\n",
    "\n",
    "# Find variance of each section\n",
    "r1_sqr = bag_1.var(ddof=1)\n",
    "r2_sqr = bag_2.var(ddof=1)\n",
    "\n",
    "# Find f-value\n",
    "f_val = r1_sqr/r2_sqr\n",
    "print(f'f-value: {f_val:.2f}')\n",
    "\n",
    "# Decision \n",
    "if f_val < f_awal or f_val > f_akhir:\n",
    "    print(\"Tolak H0. Variansi bagian awal kolom residual sugar tidak sama dengan variansi bagian akhirnya\")\n",
    "else:\n",
    "    print(\"Gagal menolak H0. Variansi bagian awal kolom residual sugar sama dengan variansi bagian akhirnya\")"
   ]
  },
  {
   "attachments": {},
   "cell_type": "markdown",
   "metadata": {},
   "source": [
    "6. Ambil keputusan\n",
    "\n",
    "    <h4 align=\"center\"><font color='green'>Berdasarkan langkah no 5 didapat bahwa nilai f tidak berada di daerah kritis maka gagal menolak H0 (Variansi bagian awal kolom residual sugar sama dengan variansi bagian akhirnya)</font></h4>"
   ]
  },
  {
   "attachments": {},
   "cell_type": "markdown",
   "metadata": {},
   "source": [
    "## 5.5 Proporsi nilai setengah bagian awal alcohol yang lebih dari 7, adalah lebih besar daripada, proporsi nilai yang sama di setengah bagian akhir alcohol?\n",
    "\n",
    "1. Tentukan Hipotesis nol \n",
    "\n",
    "    $$H_{0}: p_{1} - p_{2} = 0$$\n",
    "\n",
    "2. Pilih hipotesis alternatif H1\n",
    "\n",
    "    $$H_{1}: p_{1} - p_{2} > 0$$\n",
    "\n",
    "3. Tentukan tingkat signifikan α.\n",
    "\n",
    "    $$\\alpha = 0.05$$\n",
    "\n",
    "4. Tentukan uji statistik yang sesuai dan tentukan daerah kritis\n",
    "\n",
    "    Uji statistik yang digunakan : <u>Two Sample Two-Tailed Mean Test</u>\n",
    "    \n",
    "    <h4 align=\"center\">Daerah Kritis                : z_val > 1.64\n",
    "</h4>\n",
    "\n",
    "5. Hitung nilai uji statistik dari data sample."
   ]
  },
  {
   "cell_type": "code",
   "execution_count": 18,
   "metadata": {},
   "outputs": [
    {
     "name": "stdout",
     "output_type": "stream",
     "text": [
      "Critical value: 1.64\n",
      "z-value: 0.00\n",
      "Gagal menolak H0. Proporsi nilai setengah bagian awal alcohol yang lebih dari 7, adalah sama dengan, proporsi nilai yang sama di setengah bagian akhir alcohol\n"
     ]
    }
   ],
   "source": [
    "alcohol = df[\"alcohol\"]\n",
    "\n",
    "## Get 2 section\n",
    "bag_1 = alcohol.head(alcohol.size // 2)\n",
    "bag_2 = alcohol.tail(alcohol.size // 2)\n",
    "\n",
    "# Find degree of freedom of each section\n",
    "v1 = bag_1.count()-1\n",
    "v2 = bag_2.count()-1\n",
    "\n",
    "# Find critical value\n",
    "norm = stats.norm()\n",
    "z_alpha = norm.ppf(1-0.05)\n",
    "print(f'Critical value: {z_alpha:.2f}')\n",
    "\n",
    "# Find p_hat\n",
    "x1 = bag_1[bag_1 > 7].count()\n",
    "x2 = bag_2[bag_2 > 7].count()\n",
    "n1 = bag_1.count()\n",
    "n2 = bag_2.count()\n",
    "p_hat = (x1+x2)/(n1+n2)\n",
    "\n",
    "# Find p1, p2, and q\n",
    "p1 = x1/n1\n",
    "p2 = x2/n2\n",
    "q = 1 - p_hat\n",
    "\n",
    "# Find z0\n",
    "z_val = (p1 - p2)/(np.sqrt(p_hat*q*(1/n1+1/n2)))\n",
    "print(f'z-value: {z_val:.2f}')\n",
    "\n",
    "# Decision \n",
    "if z_val > z_alpha:\n",
    "    print(\"Tolak H0. Proporsi nilai setengah bagian awal alcohol yang lebih dari 7, adalah lebih besar daripada, proporsi nilai yang sama di setengah bagian akhir alcohol\")\n",
    "else:\n",
    "    print(\"Gagal menolak H0. Proporsi nilai setengah bagian awal alcohol yang lebih dari 7, adalah sama dengan, proporsi nilai yang sama di setengah bagian akhir alcohol\")"
   ]
  },
  {
   "attachments": {},
   "cell_type": "markdown",
   "metadata": {},
   "source": [
    "6. Ambil keputusan\n",
    "\n",
    "    <h4 align=\"center\"><font color='green'>Berdasarkan langkah no 5 didapat bahwa nilai z tidak berada di daerah kritis maka gagal menolak H0 (Proporsi nilai setengah bagian awal alcohol yang lebih dari 7, adalah sama dengan, proporsi nilai yang sama di setengah bagian akhir alcohol)</font></h4>"
   ]
  }
 ],
 "metadata": {
  "kernelspec": {
   "display_name": "Python 3",
   "language": "python",
   "name": "python3"
  },
  "language_info": {
   "codemirror_mode": {
    "name": "ipython",
    "version": 3
   },
   "file_extension": ".py",
   "mimetype": "text/x-python",
   "name": "python",
   "nbconvert_exporter": "python",
   "pygments_lexer": "ipython3",
   "version": "3.10.9"
  },
  "orig_nbformat": 4
 },
 "nbformat": 4,
 "nbformat_minor": 2
}

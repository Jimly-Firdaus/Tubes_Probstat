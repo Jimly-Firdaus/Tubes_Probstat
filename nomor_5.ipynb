{
 "cells": [
  {
   "cell_type": "code",
   "execution_count": 2,
   "metadata": {},
   "outputs": [],
   "source": [
    "from statsmodels.stats import weightstats as stests\n",
    "from statsmodels.stats.proportion import proportions_ztest\n",
    "import scipy.stats as stats\n",
    "import numpy as np\n",
    "import pandas as pd\n",
    "import seaborn as sns\n",
    "\n",
    "# Load dataset\n",
    "df = pd.read_csv('anggur.csv')\n",
    "\n",
    "# given std\n",
    "def z_score (x_bar_1, x_bar_2, d0, sigma_1, sigma_2, n1, n2):\n",
    "    return ((x_bar_1 - x_bar_2) - d0) / np.sqrt(((sigma_1 ** 2) / n1) + ((sigma_2 ** 2) / n2))\n",
    "\n",
    "# same std but not given\n",
    "def sp (s1, s2, n1, n2):\n",
    "    return ((n1 - 1) * (s1 ** 2) + (n2 - 1) * (s2 ** 2)) / (n1 + n2 - 2)\n",
    "\n",
    "def t_val_1 (x_bar_1, x_bar_2, d0, sp, n1, n2):\n",
    "    return ((x_bar_1 - x_bar_2) - d0) / (sp * np.sqrt((1 / n1) + (1 / n2)))\n",
    "\n",
    "# std not same && not given\n",
    "def t_val_2 (x_bar_1, x_bar_2, d0, s1, s2, n1, n2):\n",
    "    return ((x_bar_1 - x_bar_2) - d0) / np.sqrt(((s1 ** 2) / n1) + ((s2 ** 2) / n2))"
   ]
  },
  {
   "attachments": {},
   "cell_type": "markdown",
   "metadata": {},
   "source": [
    "# Tes Hipotesis 2 Sampel"
   ]
  },
  {
   "attachments": {},
   "cell_type": "markdown",
   "metadata": {},
   "source": [
    "## Data kolom fixed acidity dibagi 2 sama rata: bagian awal dan bagian akhir kolom. Benarkah rata-rata kedua bagian tersebut sama?\n",
    "\n",
    "1. Tentukan Hipotesis nol \n",
    "    -> H0: μ1 = μ2\n",
    "\n",
    "2. Pilih hipotesis alternatif H1\n",
    "    -> H1: μ1 ≠ μ2\n",
    "\n",
    "3. Tentukan tingkat signifikan α.\n",
    "    -> α = 0.05\n",
    "\n",
    "4. Tentukan uji statistik yang sesuai dan tentukan daerah kritis\n",
    "    -> Uji statistik yang digunakan : Two Sample Two-Tailed Mean Test\n",
    "    -> Daerah Kritis                : -\n",
    "\n",
    "5. Hitung nilai uji statistik dari data sample. Hitung p-value sesuai dengan uji statistik yang\n",
    "digunakan"
   ]
  },
  {
   "cell_type": "code",
   "execution_count": 5,
   "metadata": {},
   "outputs": [
    {
     "name": "stdout",
     "output_type": "stream",
     "text": [
      "z-score: 0.03\n",
      "Critical value: 1.96\n",
      "Gagal menolak H0. μ kedua bagian sama\n"
     ]
    }
   ],
   "source": [
    "fixed_acidity = df[\"fixed acidity\"]\n",
    "\n",
    "d0 = 0\n",
    "\n",
    "z_alpha = stats.t.ppf(0.975, fixed_acidity.size - 1)\n",
    "\n",
    "# Get 2 section\n",
    "bag_1 = fixed_acidity.head(fixed_acidity.size // 2)\n",
    "bag_2 = fixed_acidity.tail(fixed_acidity.size // 2)\n",
    "\n",
    "# Find mean\n",
    "mean_1 = bag_1.mean()\n",
    "mean_2 = bag_2.mean()\n",
    "\n",
    "# Find std\n",
    "std_1 = bag_1.std()\n",
    "std_2 = bag_2.std()\n",
    "\n",
    "# Size\n",
    "size = fixed_acidity.size // 2\n",
    "\n",
    "# Find z value\n",
    "z_val = z_score(mean_1, mean_2, d0, std_1, std_2, size, size)\n",
    "\n",
    "# Result\n",
    "print(f'z-score: {z_val:.2f}')\n",
    "print(f'Critical value: {z_alpha:.2f}')\n",
    "\n",
    "# Decision\n",
    "if z_val < -z_alpha or z_val > z_alpha:\n",
    "    print(\"Tolak H0. μ kedua bagian tidak sama\")\n",
    "else:\n",
    "    print(\"Gagal menolak H0. μ kedua bagian sama\")"
   ]
  },
  {
   "attachments": {},
   "cell_type": "markdown",
   "metadata": {},
   "source": [
    "6. Ambil keputusan\n",
    "    -> Berdasarkan langkah no 5 didapat bahwa nilai z tidak berada di daerah kritis maka gagal menola H0 (μ kedua bagian sama)"
   ]
  }
 ],
 "metadata": {
  "kernelspec": {
   "display_name": "Python 3",
   "language": "python",
   "name": "python3"
  },
  "language_info": {
   "codemirror_mode": {
    "name": "ipython",
    "version": 3
   },
   "file_extension": ".py",
   "mimetype": "text/x-python",
   "name": "python",
   "nbconvert_exporter": "python",
   "pygments_lexer": "ipython3",
   "version": "3.10.6"
  },
  "orig_nbformat": 4
 },
 "nbformat": 4,
 "nbformat_minor": 2
}
